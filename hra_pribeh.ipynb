{
  "nbformat": 4,
  "nbformat_minor": 0,
  "metadata": {
    "colab": {
      "provenance": [],
      "authorship_tag": "ABX9TyPdbMJScgzYqvVGuFLBpsKg",
      "include_colab_link": true
    },
    "kernelspec": {
      "name": "python3",
      "display_name": "Python 3"
    },
    "language_info": {
      "name": "python"
    }
  },
  "cells": [
    {
      "cell_type": "markdown",
      "metadata": {
        "id": "view-in-github",
        "colab_type": "text"
      },
      "source": [
        "<a href=\"https://colab.research.google.com/github/karinf10/HRA/blob/main/hra_pribeh.ipynb\" target=\"_parent\"><img src=\"https://colab.research.google.com/assets/colab-badge.svg\" alt=\"Open In Colab\"/></a>"
      ]
    },
    {
      "cell_type": "code",
      "execution_count": null,
      "metadata": {
        "id": "Sdt52ggke42R"
      },
      "outputs": [],
      "source": []
    },
    {
      "cell_type": "markdown",
      "source": [
        "# Tvorba hry\n",
        "Príbeh s dvomi možnosťami na konci 2. Po výbere sa vytvorí ďalšia časť príbehu. Vždy je len jedna možnosť správna."
      ],
      "metadata": {
        "id": "2t8KpGT0f7Tm"
      }
    },
    {
      "cell_type": "code",
      "source": [
        "# prompt: Napíš príbeh s dvomi možnosťami na konci 2. Po výbere sa vytvorí ďalšia časť príbehu. Vždy je len jedna možnosť správna.\n",
        "\n",
        "def cast_pribehu_1():\n",
        "    print(\"Bola raz jedna malá dedinka na okraji rozsiahleho lesa. V tejto dedinke žil odvážny mladík menom Oliver. Jedného dňa sa dozvedel o starom legende o skrytom poklade ukrytom hlboko v lese. Oliver sa rozhodol poklad nájsť.\")\n",
        "    print(\"Vydal sa na cestu. Po niekoľkých hodinách chôdze sa dostal na križovatku.\")\n",
        "    print(\"Máš dve možnosti:\")\n",
        "    print(\"1. Odbočiť doprava na úzku lesnú cestu.\")\n",
        "    print(\"2. Ísť rovno po širokej ceste.\")\n",
        "\n",
        "def cast_pribehu_2_moznost_1():\n",
        "    print(\"\\nOliver odbočil doprava na úzku lesnú cestu. Cesta bola zarastená a ťažko prechodná. Po chvíli sa ocitol pred hlbokou roklinou s vratkým mostom.\")\n",
        "    print(\"Máš dve možnosti:\")\n",
        "    print(\"1. Pokúsiť sa prejsť po vratkom moste.\")\n",
        "    print(\"2. Hľadať inú cestu okolo rokliny.\")\n",
        "\n",
        "def cast_pribehu_2_moznost_2():\n",
        "    print(\"\\nOliver išiel rovno po širokej ceste. Cesta bola pohodlná a jasná. Po chvíli sa ocitol pred vysokou horou. Cesta sa ďalej nerozvetvovala.\")\n",
        "    print(\"Koniec hry. Táto cesta neviedla k pokladu.\")\n",
        "\n",
        "def cast_pribehu_3_moznost_1_moznost_1():\n",
        "    print(\"\\nOliver sa odvážil prejsť po vratkom moste. Most sa pod jeho váhou kýval, ale podarilo sa mu dostať na druhú stranu.\")\n",
        "    print(\"Na druhej strane rokliny našiel jaskyňu. Vstúpil do nej a vo vnútri našiel truhlicu plnú zlatých mincí a drahokamov.\")\n",
        "    print(\"Gratulujem! Našiel si poklad!\")\n",
        "\n",
        "def cast_pribehu_3_moznost_1_moznost_2():\n",
        "    print(\"\\nOliver sa rozhodol hľadať inú cestu okolo rokliny. Trvalo mu to dlho a stratil sa v lese.\")\n",
        "    print(\"Koniec hry. Stratil si sa a nenašiel si poklad.\")\n",
        "\n",
        "# Spustenie príbehu\n",
        "cast_pribehu_1()\n",
        "\n",
        "vyber1 = input(\"Zadaj číslo svojej voľby (1 alebo 2): \")\n",
        "\n",
        "if vyber1 == '1':\n",
        "    cast_pribehu_2_moznost_1()\n",
        "    vyber2 = input(\"Zadaj číslo svojej voľby (1 alebo 2): \")\n",
        "    if vyber2 == '1':\n",
        "        cast_pribehu_3_moznost_1_moznost_1()\n",
        "    elif vyber2 == '2':\n",
        "        cast_pribehu_3_moznost_1_moznost_2()\n",
        "    else:\n",
        "        print(\"Neplatná voľba. Koniec hry.\")\n",
        "elif vyber1 == '2':\n",
        "    cast_pribehu_2_moznost_2()\n",
        "else:\n",
        "    print(\"Neplatná voľba. Koniec hry.\")\n"
      ],
      "metadata": {
        "colab": {
          "base_uri": "https://localhost:8080/"
        },
        "id": "YYaHjaAwhcED",
        "outputId": "f6325f59-ee2e-4b26-a976-8010ce1977e2"
      },
      "execution_count": null,
      "outputs": [
        {
          "output_type": "stream",
          "name": "stdout",
          "text": [
            "Bola raz jedna malá dedinka na okraji rozsiahleho lesa. V tejto dedinke žil odvážny mladík menom Oliver. Jedného dňa sa dozvedel o starom legende o skrytom poklade ukrytom hlboko v lese. Oliver sa rozhodol poklad nájsť.\n",
            "Vydal sa na cestu. Po niekoľkých hodinách chôdze sa dostal na križovatku.\n",
            "Máš dve možnosti:\n",
            "1. Odbočiť doprava na úzku lesnú cestu.\n",
            "2. Ísť rovno po širokej ceste.\n"
          ]
        }
      ]
    }
  ]
}