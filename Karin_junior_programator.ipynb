{
  "nbformat": 4,
  "nbformat_minor": 0,
  "metadata": {
    "colab": {
      "provenance": [],
      "authorship_tag": "ABX9TyNF+O8BzqvLQ5RiN7mrdaB8",
      "include_colab_link": true
    },
    "kernelspec": {
      "name": "python3",
      "display_name": "Python 3"
    },
    "language_info": {
      "name": "python"
    }
  },
  "cells": [
    {
      "cell_type": "markdown",
      "metadata": {
        "id": "view-in-github",
        "colab_type": "text"
      },
      "source": [
        "<a href=\"https://colab.research.google.com/github/karinf10/HRA/blob/main/Karin_junior_programator.ipynb\" target=\"_parent\"><img src=\"https://colab.research.google.com/assets/colab-badge.svg\" alt=\"Open In Colab\"/></a>"
      ]
    },
    {
      "cell_type": "markdown",
      "source": [
        "# ***MINDWORD😍***"
      ],
      "metadata": {
        "id": "K-ErT16aqgnL"
      }
    },
    {
      "cell_type": "markdown",
      "source": [
        "🧠 **Nie je to len hra. Je to každodenná výzva pre tvoju myseľ.\n",
        "Slovo, ktoré ti môže zlepšiť deň… alebo potrápiť ego.\n",
        "Každý má len jednu šancu denne. A len tí najšikovnejší sa dostanú na vrchol.**\n",
        "\n",
        "🔒 Slovo je ukryté.\n",
        "⏳ Čas beží.\n",
        "🔥 Priatelia už hádajú.\n",
        "*A ty? Ešte stále váhaš?*\n",
        "\n",
        "✨ Zapojiť sa môže každý.\n",
        "Je to rýchle, návykové a extrémne uspokojivé – hlavne keď **trafíš** presne.\n",
        "Ukáž, že máš na to. Prekonaj seba aj ostatných.\n",
        "\n",
        "➡️ *Klikni, hraj, hádaj. Dnešné slovo na teba čaká.*\n",
        "**Ale pozor-zajtra už bude iné.**😉\n",
        "\n"
      ],
      "metadata": {
        "id": "WxRDH9-cs4m1"
      }
    }
  ]
}